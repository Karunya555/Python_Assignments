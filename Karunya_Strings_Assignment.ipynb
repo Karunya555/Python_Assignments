{
 "cells": [
  {
   "cell_type": "code",
   "execution_count": 3,
   "id": "6fd7217c",
   "metadata": {},
   "outputs": [],
   "source": [
    "str1 = \"Cloud Computing\""
   ]
  },
  {
   "cell_type": "code",
   "execution_count": 4,
   "id": "dd0cf61c",
   "metadata": {},
   "outputs": [
    {
     "data": {
      "text/plain": [
       "'cloud computing'"
      ]
     },
     "execution_count": 4,
     "metadata": {},
     "output_type": "execute_result"
    }
   ],
   "source": [
    "str1 . lower()"
   ]
  },
  {
   "cell_type": "code",
   "execution_count": 5,
   "id": "629ae418",
   "metadata": {},
   "outputs": [
    {
     "data": {
      "text/plain": [
       "'CLOUD COMPUTING'"
      ]
     },
     "execution_count": 5,
     "metadata": {},
     "output_type": "execute_result"
    }
   ],
   "source": [
    "str1 . upper()"
   ]
  },
  {
   "cell_type": "code",
   "execution_count": 6,
   "id": "fb1a4323",
   "metadata": {},
   "outputs": [
    {
     "data": {
      "text/plain": [
       "'lu'"
      ]
     },
     "execution_count": 6,
     "metadata": {},
     "output_type": "execute_result"
    }
   ],
   "source": [
    "str1[1:4 :2 ]"
   ]
  },
  {
   "cell_type": "code",
   "execution_count": 7,
   "id": "1aceac87",
   "metadata": {},
   "outputs": [
    {
     "data": {
      "text/plain": [
       "' optn'"
      ]
     },
     "execution_count": 7,
     "metadata": {},
     "output_type": "execute_result"
    }
   ],
   "source": [
    "str1[5:16:2]"
   ]
  },
  {
   "cell_type": "code",
   "execution_count": 8,
   "id": "eb5a838d",
   "metadata": {},
   "outputs": [
    {
     "data": {
      "text/plain": [
       "'lu optn'"
      ]
     },
     "execution_count": 8,
     "metadata": {},
     "output_type": "execute_result"
    }
   ],
   "source": [
    "str1[1:15:2]"
   ]
  },
  {
   "cell_type": "code",
   "execution_count": 9,
   "id": "2892c592",
   "metadata": {},
   "outputs": [
    {
     "data": {
      "text/plain": [
       "'ClOuD CoMpUtInG'"
      ]
     },
     "execution_count": 9,
     "metadata": {},
     "output_type": "execute_result"
    }
   ],
   "source": [
    "str1.replace('Cloud Computing','ClOuD CoMpUtInG')"
   ]
  },
  {
   "cell_type": "code",
   "execution_count": 10,
   "id": "e985b0cf",
   "metadata": {},
   "outputs": [
    {
     "data": {
      "text/plain": [
       "'cLoUd cOmPuTiNg'"
      ]
     },
     "execution_count": 10,
     "metadata": {},
     "output_type": "execute_result"
    }
   ],
   "source": [
    "str1.replace(\"Cloud Computing\",\"cLoUd cOmPuTiNg\")"
   ]
  },
  {
   "cell_type": "code",
   "execution_count": 11,
   "id": "fadf4c1d",
   "metadata": {},
   "outputs": [
    {
     "data": {
      "text/plain": [
       "'Cod'"
      ]
     },
     "execution_count": 11,
     "metadata": {},
     "output_type": "execute_result"
    }
   ],
   "source": [
    "str1[0:5:2]"
   ]
  },
  {
   "cell_type": "code",
   "execution_count": 12,
   "id": "2a0dc6e5",
   "metadata": {},
   "outputs": [
    {
     "data": {
      "text/plain": [
       "'Cmuig'"
      ]
     },
     "execution_count": 12,
     "metadata": {},
     "output_type": "execute_result"
    }
   ],
   "source": [
    "str1[6:15:2]\n"
   ]
  },
  {
   "cell_type": "code",
   "execution_count": 13,
   "id": "57854025",
   "metadata": {},
   "outputs": [
    {
     "data": {
      "text/plain": [
       "'ClOuD CoMpUtInG'"
      ]
     },
     "execution_count": 13,
     "metadata": {},
     "output_type": "execute_result"
    }
   ],
   "source": [
    "str1.replace(\"Cloud Computing\",\"ClOuD CoMpUtInG\")"
   ]
  },
  {
   "cell_type": "code",
   "execution_count": 16,
   "id": "9ba8f3ca",
   "metadata": {},
   "outputs": [
    {
     "data": {
      "text/plain": [
       "'cLoUd cOmPuTiNg'"
      ]
     },
     "execution_count": 16,
     "metadata": {},
     "output_type": "execute_result"
    }
   ],
   "source": [
    "str1.replace(\"Cloud Computing\",\"cLoUd cOmPuTiNg\")"
   ]
  },
  {
   "cell_type": "code",
   "execution_count": 17,
   "id": "0a7e168b",
   "metadata": {},
   "outputs": [],
   "source": [
    "name =\"karunya\"\n",
    "age = 24\n",
    "phone  = 8888899955\n",
    "father = \"Chandra Mohan\"\n",
    "mother = \"Madhavi\"\n"
   ]
  },
  {
   "cell_type": "code",
   "execution_count": 18,
   "id": "ea78de5c",
   "metadata": {},
   "outputs": [
    {
     "data": {
      "text/plain": [
       "\"my name is karunya, my age is 24, my phone number is 8888899955, my father's name is Chandra Mohan, my mother's name is Madhavi.\""
      ]
     },
     "execution_count": 18,
     "metadata": {},
     "output_type": "execute_result"
    }
   ],
   "source": [
    "\"my name is\"+\" \"+ name+\",\"+\" \"+\"my age is\"+ \" \"+str(age)+\",\"+\" \"+\"my phone number is\"+\" \"+str(phone)+\",\"+\" \"+\"my father's name is\"+\" \"+father+\",\"+\" \"+\"my mother's name is\"+\" \" +mother+\".\""
   ]
  },
  {
   "cell_type": "code",
   "execution_count": 19,
   "id": "4158bbd4",
   "metadata": {},
   "outputs": [],
   "source": [
    "a = \"S@ndhy@\""
   ]
  },
  {
   "cell_type": "code",
   "execution_count": 20,
   "id": "4bc093a7",
   "metadata": {},
   "outputs": [
    {
     "data": {
      "text/plain": [
       "2"
      ]
     },
     "execution_count": 20,
     "metadata": {},
     "output_type": "execute_result"
    }
   ],
   "source": [
    "a.count(\"@\")"
   ]
  },
  {
   "cell_type": "code",
   "execution_count": 21,
   "id": "79e786f4",
   "metadata": {},
   "outputs": [],
   "source": [
    "d =  \"name1.@gmail.com, name2.@gmail.com, name#3.@gmail.com\""
   ]
  },
  {
   "cell_type": "code",
   "execution_count": 22,
   "id": "e1467a11",
   "metadata": {},
   "outputs": [
    {
     "data": {
      "text/plain": [
       "['name1', ', name2', ', name#3', '']"
      ]
     },
     "execution_count": 22,
     "metadata": {},
     "output_type": "execute_result"
    }
   ],
   "source": [
    " d.split(\".@gmail.com\")"
   ]
  },
  {
   "cell_type": "code",
   "execution_count": 23,
   "id": "8cf60bc3",
   "metadata": {},
   "outputs": [],
   "source": [
    "Q = \"abcdefghijklmnopqrstuvwxyz\""
   ]
  },
  {
   "cell_type": "code",
   "execution_count": 24,
   "id": "168ddc43",
   "metadata": {},
   "outputs": [
    {
     "data": {
      "text/plain": [
       "'bcdfghjklmnpqrstvwxyz'"
      ]
     },
     "execution_count": 24,
     "metadata": {},
     "output_type": "execute_result"
    }
   ],
   "source": [
    "Q[1:4:1]+ Q[5:8:1]+Q[9:14:1]+Q[15:20:1]+Q[21:26:1]"
   ]
  },
  {
   "cell_type": "code",
   "execution_count": 25,
   "id": "e6a054fa",
   "metadata": {},
   "outputs": [],
   "source": [
    "str2 = \" Welcome to Innomatics , Innomatics is Awesome isn't it? \""
   ]
  },
  {
   "cell_type": "code",
   "execution_count": 26,
   "id": "ba0c1de9",
   "metadata": {},
   "outputs": [
    {
     "data": {
      "text/plain": [
       "2"
      ]
     },
     "execution_count": 26,
     "metadata": {},
     "output_type": "execute_result"
    }
   ],
   "source": [
    "str2.count(\"Innomatics\")"
   ]
  },
  {
   "cell_type": "code",
   "execution_count": null,
   "id": "c9049f58",
   "metadata": {},
   "outputs": [],
   "source": []
  }
 ],
 "metadata": {
  "kernelspec": {
   "display_name": "Python 3 (ipykernel)",
   "language": "python",
   "name": "python3"
  },
  "language_info": {
   "codemirror_mode": {
    "name": "ipython",
    "version": 3
   },
   "file_extension": ".py",
   "mimetype": "text/x-python",
   "name": "python",
   "nbconvert_exporter": "python",
   "pygments_lexer": "ipython3",
   "version": "3.9.13"
  }
 },
 "nbformat": 4,
 "nbformat_minor": 5
}
